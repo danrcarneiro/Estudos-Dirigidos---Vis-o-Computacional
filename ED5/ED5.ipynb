{
 "cells": [
  {
   "cell_type": "markdown",
   "metadata": {},
   "source": [
    "# Estudo Dirigido 5\n",
    "\n",
    "### Aluno: Daniel da Rocha Carneiro\n",
    "\n",
    "---"
   ]
  },
  {
   "cell_type": "markdown",
   "metadata": {},
   "source": [
    "#### Importação de bibliotecas e imagens"
   ]
  },
  {
   "cell_type": "code",
   "execution_count": 1,
   "metadata": {},
   "outputs": [],
   "source": [
    "import numpy as np\n",
    "import cv2 as cv\n",
    "\n",
    "\n",
    "video = cv.VideoCapture(\"traffic_sequence.mpg\")\n"
   ]
  },
  {
   "cell_type": "markdown",
   "metadata": {},
   "source": [
    "#### Diferença absoluta frame a frame"
   ]
  },
  {
   "cell_type": "code",
   "execution_count": 2,
   "metadata": {},
   "outputs": [],
   "source": [
    "#difference between two frames of the whole video and store it in a new video\n",
    "frames = []\n",
    "\n",
    "ret, frame1 = video.read()\n",
    "while video.isOpened():\n",
    "    ret, frame2 = video.read()\n",
    "    if not ret:\n",
    "        break\n",
    "    diff = cv.absdiff(frame1, frame2)\n",
    "    frames.append(diff)\n",
    "    frame1 = frame2\n",
    "    if cv.waitKey(1) & 0xFF == ord(\"q\"):\n",
    "        break\n",
    "\n",
    "video.release()\n",
    "cv.destroyAllWindows()\n",
    "\n",
    "height, width, layers = frames[0].shape\n",
    "fps = video.get(cv.CAP_PROP_FPS)\n",
    "frame_count = video.get(cv.CAP_PROP_FRAME_COUNT)\n",
    "\n",
    "videoDiff = cv.VideoWriter(\"traffic_sequence_diff.mpg\", cv.VideoWriter_fourcc(*\"mpg1\"), fps, (width, height))\n",
    "\n",
    "for frame in frames:\n",
    "    videoDiff.write(frame)\n",
    "\n",
    "videoDiff.release()\n",
    "cv.destroyAllWindows()\n",
    "\n",
    "def play_video(video):\n",
    "    while video.isOpened():\n",
    "        ret, frame = video.read()\n",
    "        if not ret:\n",
    "            break\n",
    "        cv.imshow(\"frame\", frame)\n",
    "        if cv.waitKey(1) & 0xFF == ord(\"q\"):\n",
    "            break\n",
    "    #video.release()\n",
    "    cv.destroyAllWindows()\n",
    "\n",
    "def play_two_videos(video1, video2):\n",
    "    while video1.isOpened() and video2.isOpened():\n",
    "        ret1, frame1 = video1.read()\n",
    "        ret2, frame2 = video2.read()\n",
    "\n",
    "        if not ret1 or not ret2:\n",
    "            break\n",
    "\n",
    "        # Redimensionar os frames para terem a mesma altura (assumindo que ambos os vídeos têm a mesma largura)\n",
    "        height, width = frame1.shape[:2]\n",
    "        new_height = int(height*1)\n",
    "        new_width = int(width*1)\n",
    "\n",
    "        frame1_resized = cv.resize(frame1, (new_width, new_height))\n",
    "        frame2_resized = cv.resize(frame2, (new_width, new_height))\n",
    "\n",
    "        # Mostrar os frames lado a lado\n",
    "        combined_frame = cv.hconcat([frame1_resized, frame2_resized])\n",
    "\n",
    "        cv.imshow(\"Two Videos\", combined_frame)\n",
    "\n",
    "        if cv.waitKey(1) & 0xFF == ord(\"q\"):\n",
    "            break\n",
    "\n",
    "    video1.release()\n",
    "    video2.release()\n",
    "    cv.destroyAllWindows()"
   ]
  },
  {
   "cell_type": "markdown",
   "metadata": {},
   "source": [
    "#### Vídeo original"
   ]
  },
  {
   "cell_type": "code",
   "execution_count": 3,
   "metadata": {},
   "outputs": [],
   "source": [
    "video = cv.VideoCapture(\"traffic_sequence.mpg\")\n",
    "play_video(video)\n"
   ]
  },
  {
   "cell_type": "markdown",
   "metadata": {},
   "source": [
    "#### Vídeo da diferença entre frames"
   ]
  },
  {
   "cell_type": "code",
   "execution_count": 4,
   "metadata": {},
   "outputs": [],
   "source": [
    "videoDiff = cv.VideoCapture(\"traffic_sequence_diff.mpg\")\n",
    "play_video(videoDiff)"
   ]
  },
  {
   "cell_type": "markdown",
   "metadata": {},
   "source": [
    "#### Comparativo"
   ]
  },
  {
   "cell_type": "code",
   "execution_count": 5,
   "metadata": {},
   "outputs": [],
   "source": [
    "video = cv.VideoCapture(\"traffic_sequence.mpg\")\n",
    "videoDiff = cv.VideoCapture(\"traffic_sequence_diff.mpg\")\n",
    "play_two_videos(video, videoDiff)"
   ]
  }
 ],
 "metadata": {
  "kernelspec": {
   "display_name": "Python 3",
   "language": "python",
   "name": "python3"
  },
  "language_info": {
   "codemirror_mode": {
    "name": "ipython",
    "version": 3
   },
   "file_extension": ".py",
   "mimetype": "text/x-python",
   "name": "python",
   "nbconvert_exporter": "python",
   "pygments_lexer": "ipython3",
   "version": "3.11.3"
  }
 },
 "nbformat": 4,
 "nbformat_minor": 2
}
