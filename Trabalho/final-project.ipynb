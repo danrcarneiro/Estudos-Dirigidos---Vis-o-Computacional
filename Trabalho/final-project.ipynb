{
 "cells": [
  {
   "cell_type": "code",
   "execution_count": 1,
   "metadata": {},
   "outputs": [],
   "source": [
    "import cv2 as cv\n",
    "import numpy as np\n",
    "\n",
    "%matplotlib inline"
   ]
  },
  {
   "cell_type": "code",
   "execution_count": 2,
   "metadata": {},
   "outputs": [],
   "source": [
    "def follow_husky(input, name, outpath):\n",
    "    cap = cv.VideoCapture(input)\n",
    "\n",
    "    #motion detection e background subtraction\n",
    "    background_remover = cv.createBackgroundSubtractorKNN(detectShadows=True)\n",
    "\n",
    "    frames = []\n",
    "    max_cnts = []\n",
    "    path = []\n",
    "\n",
    "    while(cap.isOpened()):\n",
    "        ret, frame = cap.read()\n",
    "\n",
    "        if frame is None:\n",
    "            break\n",
    "\n",
    "        result = frame.copy()\n",
    "        image = cv.cvtColor(frame, cv.COLOR_BGR2HSV)\n",
    "\n",
    "        lower_red = np.array([165,30,20])\n",
    "        upper_red = np.array([189,255,255])\n",
    "\n",
    "        #filtro de cores\n",
    "        mask = cv.inRange(image, lower_red, upper_red)\n",
    "        red_area = cv.bitwise_and(result, result, mask=mask)\n",
    "\n",
    "        #blur para reduzir ruido\n",
    "        frame = cv.GaussianBlur(frame, (5, 5), 0)\n",
    "        \n",
    "        #background subtraction e suavização com o operador morfológico da máscara resultante\n",
    "        mask = background_remover.apply(red_area)\n",
    "        _, mask = cv.threshold(mask, 254, 255, cv.THRESH_BINARY)\n",
    "        mask = cv.morphologyEx(mask, cv.MORPH_OPEN, np.ones((3,3),np.uint8)) \n",
    "        \n",
    "        #blobs resultantes\n",
    "        contours, _ = cv.findContours(mask, cv.RETR_TREE, cv.CHAIN_APPROX_NONE)\n",
    "\n",
    "        #seleciona apenas o maior blob válido e desenhamos uma elipse sobre ele\n",
    "        max_cnt = [0, 0]\n",
    "        for cnt in contours:\n",
    "            area = cv.contourArea(cnt)\n",
    "            if area > 800 and len(cnt) >= 5:\n",
    "                if area > max_cnt[0]:\n",
    "                    max_cnt = [area, cnt]\n",
    "        \n",
    "        if max_cnt[0] != 0:\n",
    "            elipse = cv.fitEllipse(max_cnt[1])\n",
    "            path.append([int(elipse[0][0]), int(elipse[0][1])])\n",
    "            cv.ellipse(frame, elipse, (0, 255, 0), 2)\n",
    "\n",
    "        #caminho percorrido pelo blob\n",
    "        for point in path:\n",
    "            cv.circle(frame, (point[0], point[1]), 2, (255, 255, 255))\n",
    "\n",
    "        #salva os frames e os blobs\n",
    "        if ret == True:\n",
    "            frames.append(frame)\n",
    "            max_cnts.append(max_cnt)\n",
    "\n",
    "        #debug options\n",
    "        #cv.imshow('mask', frame)\n",
    "        #key = cv.waitKey(33)\n",
    "        \n",
    "        #if key == 27:\n",
    "        #    break\n",
    "\n",
    "    cap.release()\n",
    "    cv.destroyAllWindows()\n",
    "\n",
    "    #salva os frames como video\n",
    "    img = frames[5].copy()\n",
    "    fourcc = cv.VideoWriter_fourcc(*'XVID')\n",
    "    out = cv.VideoWriter(outpath + name + '.avi', fourcc, 20.0, (frames[0].shape[1], frames[0].shape[0]))\n",
    "    for frame in frames:\n",
    "        out.write(frame)\n",
    "    out.release()\n",
    "\n",
    "    #gera a imagem u,v e orientação\n",
    "    step = 3\n",
    "    colors = [(255, 0, 0), (0, 255, 0), (0, 0, 255)]\n",
    "    c_inc = 0\n",
    "    for i in range(10, len(path)-10, step):\n",
    "        u = path[i][0] - path[i-step][0]\n",
    "        v = path[i][1] - path[i-step][1]\n",
    "        orientation = np.arctan2(v, u)\n",
    "        #check if length of line is too large (outlier => pescoço)\n",
    "        if np.sqrt(u**2 + v**2) > 50:\n",
    "            continue\n",
    "\n",
    "        cv.arrowedLine(img, (path[i-step][0], path[i-step][1]), (path[i][0], path[i][1]), colors[c_inc%3], 1, tipLength=0.8)\n",
    "        c_inc += 1\n",
    "\n",
    "    cv.imwrite(outpath + name + '.png', img)\n",
    "    return\n"
   ]
  },
  {
   "cell_type": "code",
   "execution_count": 4,
   "metadata": {},
   "outputs": [],
   "source": [
    "follow_husky('Video1_husky.mp4', 'husky1', 'output/')"
   ]
  },
  {
   "cell_type": "code",
   "execution_count": 57,
   "metadata": {},
   "outputs": [],
   "source": [
    "follow_husky('video2_husky.mp4', 'husky2', 'output/')"
   ]
  }
 ],
 "metadata": {
  "kernelspec": {
   "display_name": "cvision",
   "language": "python",
   "name": "python3"
  },
  "language_info": {
   "codemirror_mode": {
    "name": "ipython",
    "version": 3
   },
   "file_extension": ".py",
   "mimetype": "text/x-python",
   "name": "python",
   "nbconvert_exporter": "python",
   "pygments_lexer": "ipython3",
   "version": "3.11.3"
  },
  "orig_nbformat": 4,
  "vscode": {
   "interpreter": {
    "hash": "e151ec41af6c73defb9fdbb32367e63ed7397d4ef1c31f42af2a5fe7e75f2c02"
   }
  }
 },
 "nbformat": 4,
 "nbformat_minor": 2
}
