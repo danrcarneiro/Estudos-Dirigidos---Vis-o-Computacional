{
 "cells": [
  {
   "cell_type": "markdown",
   "metadata": {},
   "source": [
    "# Estudo Dirigido 7\n",
    "\n",
    "### Aluno: Daniel da Rocha Carneiro\n",
    "\n",
    "---\n",
    "\n",
    "#### Importações"
   ]
  },
  {
   "cell_type": "code",
   "execution_count": null,
   "metadata": {},
   "outputs": [],
   "source": [
    "from PIL import Image\n",
    "import numpy as np\n",
    "import cv2 as cv"
   ]
  }
 ],
 "metadata": {
  "language_info": {
   "name": "python"
  }
 },
 "nbformat": 4,
 "nbformat_minor": 2
}
